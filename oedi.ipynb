{
 "cells": [
  {
   "cell_type": "code",
   "execution_count": 91,
   "metadata": {},
   "outputs": [],
   "source": [
    "import pandas as pd\n",
    "import numpy as np\n",
    "import matplotlib.pyplot as plt\n",
    "from sklearn import *\n",
    "from sklearn import datasets, linear_model, preprocessing\n",
    "from sklearn.linear_model import LinearRegression\n",
    "from sklearn.metrics import mean_squared_error"
   ]
  },
  {
   "cell_type": "code",
   "execution_count": 16,
   "metadata": {},
   "outputs": [],
   "source": [
    "df = pd.read_csv('data.csv')\n"
   ]
  },
  {
   "cell_type": "code",
   "execution_count": 17,
   "metadata": {},
   "outputs": [
    {
     "data": {
      "text/plain": [
       "Index(['gid', 'city', 'state', 'year', 'bldg_fid', 'aspect', 'the_geom_96703',\n",
       "       'the_geom_4326', 'footprint_m2', 'slope', 'flatarea_m2',\n",
       "       'slopeconversion', 'slopearea_m2', 'partition_0', 'city_year'],\n",
       "      dtype='object')"
      ]
     },
     "execution_count": 17,
     "metadata": {},
     "output_type": "execute_result"
    }
   ],
   "source": [
    "df.columns"
   ]
  },
  {
   "cell_type": "code",
   "execution_count": 18,
   "metadata": {},
   "outputs": [
    {
     "data": {
      "text/html": [
       "<div>\n",
       "<style scoped>\n",
       "    .dataframe tbody tr th:only-of-type {\n",
       "        vertical-align: middle;\n",
       "    }\n",
       "\n",
       "    .dataframe tbody tr th {\n",
       "        vertical-align: top;\n",
       "    }\n",
       "\n",
       "    .dataframe thead th {\n",
       "        text-align: right;\n",
       "    }\n",
       "</style>\n",
       "<table border=\"1\" class=\"dataframe\">\n",
       "  <thead>\n",
       "    <tr style=\"text-align: right;\">\n",
       "      <th></th>\n",
       "      <th>gid</th>\n",
       "      <th>city</th>\n",
       "      <th>state</th>\n",
       "      <th>year</th>\n",
       "      <th>bldg_fid</th>\n",
       "      <th>aspect</th>\n",
       "      <th>the_geom_96703</th>\n",
       "      <th>the_geom_4326</th>\n",
       "      <th>footprint_m2</th>\n",
       "      <th>slope</th>\n",
       "      <th>flatarea_m2</th>\n",
       "      <th>slopeconversion</th>\n",
       "      <th>slopearea_m2</th>\n",
       "      <th>partition_0</th>\n",
       "      <th>city_year</th>\n",
       "    </tr>\n",
       "  </thead>\n",
       "  <tbody>\n",
       "    <tr>\n",
       "      <th>0</th>\n",
       "      <td>56152</td>\n",
       "      <td>Pierre</td>\n",
       "      <td>SD</td>\n",
       "      <td>2008</td>\n",
       "      <td>3120</td>\n",
       "      <td>0</td>\n",
       "      <td>POLYGON((-345660.813705429 2382800.40622086,-3...</td>\n",
       "      <td>POLYGON((-100.350081231242 44.3639179546386,-1...</td>\n",
       "      <td>379.38</td>\n",
       "      <td>0</td>\n",
       "      <td>2.00</td>\n",
       "      <td>1.00</td>\n",
       "      <td>2.00</td>\n",
       "      <td>developable-planes</td>\n",
       "      <td>pierre_sd_08</td>\n",
       "    </tr>\n",
       "    <tr>\n",
       "      <th>1</th>\n",
       "      <td>42489</td>\n",
       "      <td>Pierre</td>\n",
       "      <td>SD</td>\n",
       "      <td>2008</td>\n",
       "      <td>4504</td>\n",
       "      <td>5</td>\n",
       "      <td>POLYGON((-345921.196587717 2383481.37204144,-3...</td>\n",
       "      <td>POLYGON((-100.353745857978 44.3699154997744,-1...</td>\n",
       "      <td>72.59</td>\n",
       "      <td>29</td>\n",
       "      <td>1.75</td>\n",
       "      <td>1.14</td>\n",
       "      <td>2.00</td>\n",
       "      <td>developable-planes</td>\n",
       "      <td>pierre_sd_08</td>\n",
       "    </tr>\n",
       "    <tr>\n",
       "      <th>2</th>\n",
       "      <td>4243</td>\n",
       "      <td>Pierre</td>\n",
       "      <td>SD</td>\n",
       "      <td>2008</td>\n",
       "      <td>4890</td>\n",
       "      <td>7</td>\n",
       "      <td>POLYGON((-349002.556022185 2383789.01386777,-3...</td>\n",
       "      <td>POLYGON((-100.392651558997 44.3714013148096,-1...</td>\n",
       "      <td>461.07</td>\n",
       "      <td>38</td>\n",
       "      <td>3.61</td>\n",
       "      <td>1.27</td>\n",
       "      <td>4.57</td>\n",
       "      <td>developable-planes</td>\n",
       "      <td>pierre_sd_08</td>\n",
       "    </tr>\n",
       "    <tr>\n",
       "      <th>3</th>\n",
       "      <td>54687</td>\n",
       "      <td>Pierre</td>\n",
       "      <td>SD</td>\n",
       "      <td>2008</td>\n",
       "      <td>2367</td>\n",
       "      <td>0</td>\n",
       "      <td>POLYGON((-343716.887726581 2382464.59704958,-3...</td>\n",
       "      <td>POLYGON((-100.325458911458 44.3617035733382,-1...</td>\n",
       "      <td>167.11</td>\n",
       "      <td>0</td>\n",
       "      <td>7.00</td>\n",
       "      <td>1.00</td>\n",
       "      <td>7.00</td>\n",
       "      <td>developable-planes</td>\n",
       "      <td>pierre_sd_08</td>\n",
       "    </tr>\n",
       "    <tr>\n",
       "      <th>4</th>\n",
       "      <td>9863</td>\n",
       "      <td>Pierre</td>\n",
       "      <td>SD</td>\n",
       "      <td>2008</td>\n",
       "      <td>3301</td>\n",
       "      <td>5</td>\n",
       "      <td>POLYGON((-344814.459867406 2382874.02067864,-3...</td>\n",
       "      <td>POLYGON((-100.339487106869 44.364924983751,-10...</td>\n",
       "      <td>44.20</td>\n",
       "      <td>43</td>\n",
       "      <td>1.00</td>\n",
       "      <td>1.37</td>\n",
       "      <td>1.37</td>\n",
       "      <td>developable-planes</td>\n",
       "      <td>pierre_sd_08</td>\n",
       "    </tr>\n",
       "  </tbody>\n",
       "</table>\n",
       "</div>"
      ],
      "text/plain": [
       "     gid    city state  year  bldg_fid  aspect  \\\n",
       "0  56152  Pierre    SD  2008      3120       0   \n",
       "1  42489  Pierre    SD  2008      4504       5   \n",
       "2   4243  Pierre    SD  2008      4890       7   \n",
       "3  54687  Pierre    SD  2008      2367       0   \n",
       "4   9863  Pierre    SD  2008      3301       5   \n",
       "\n",
       "                                      the_geom_96703  \\\n",
       "0  POLYGON((-345660.813705429 2382800.40622086,-3...   \n",
       "1  POLYGON((-345921.196587717 2383481.37204144,-3...   \n",
       "2  POLYGON((-349002.556022185 2383789.01386777,-3...   \n",
       "3  POLYGON((-343716.887726581 2382464.59704958,-3...   \n",
       "4  POLYGON((-344814.459867406 2382874.02067864,-3...   \n",
       "\n",
       "                                       the_geom_4326  footprint_m2  slope  \\\n",
       "0  POLYGON((-100.350081231242 44.3639179546386,-1...        379.38      0   \n",
       "1  POLYGON((-100.353745857978 44.3699154997744,-1...         72.59     29   \n",
       "2  POLYGON((-100.392651558997 44.3714013148096,-1...        461.07     38   \n",
       "3  POLYGON((-100.325458911458 44.3617035733382,-1...        167.11      0   \n",
       "4  POLYGON((-100.339487106869 44.364924983751,-10...         44.20     43   \n",
       "\n",
       "   flatarea_m2  slopeconversion  slopearea_m2         partition_0  \\\n",
       "0         2.00             1.00          2.00  developable-planes   \n",
       "1         1.75             1.14          2.00  developable-planes   \n",
       "2         3.61             1.27          4.57  developable-planes   \n",
       "3         7.00             1.00          7.00  developable-planes   \n",
       "4         1.00             1.37          1.37  developable-planes   \n",
       "\n",
       "      city_year  \n",
       "0  pierre_sd_08  \n",
       "1  pierre_sd_08  \n",
       "2  pierre_sd_08  \n",
       "3  pierre_sd_08  \n",
       "4  pierre_sd_08  "
      ]
     },
     "execution_count": 18,
     "metadata": {},
     "output_type": "execute_result"
    }
   ],
   "source": [
    "df.head()"
   ]
  },
  {
   "cell_type": "code",
   "execution_count": 92,
   "metadata": {},
   "outputs": [
    {
     "data": {
      "image/png": "[encoded data removed]",
      "text/plain": [
       "<Figure size 640x480 with 1 Axes>"
      ]
     },
     "metadata": {},
     "output_type": "display_data"
    }
   ],
   "source": [
    "#X = np.array(df.slopeconversion)\n",
    "#y = np.array(df.aspect)\n",
    "\n",
    "#X = np.array(df.slope)\n",
    "#y = np.array(df.aspect)\n",
    "\n",
    "X = np.array(df.gid)\n",
    "y = np.array(df.bldg_fid)\n",
    "\n",
    "X = X.reshape(-1, 1)\n",
    "\n",
    "# Split the data into training/testing sets\n",
    "X_train = X[:-20]\n",
    "X_test = X[-20:]\n",
    "\n",
    "# Split the targets into training/testing sets\n",
    "y_train = y[:-20]\n",
    "y_test = y[-20:]\n",
    "\n",
    "\n",
    "# Create linear regression object\n",
    "regr = linear_model.LinearRegression()\n",
    "\n",
    "# Train the model using the training sets\n",
    "regr.fit(X_train, y_train)\n",
    "\n",
    "# Make predictions using the testing set\n",
    "y_pred = regr.predict(X_test)\n",
    "\n",
    "# Plot outputs\n",
    "plt.scatter(X_test, y_test, color=\"black\")\n",
    "plt.plot(X_test, y_pred, color=\"blue\", linewidth=3)\n",
    "plt.xlabel(\"X-Axis\")\n",
    "plt.ylabel(\"Y-Axis\")\n",
    "plt.show()"
   ]
  },
  {
   "cell_type": "code",
   "execution_count": 95,
   "metadata": {},
   "outputs": [
    {
     "name": "stdout",
     "output_type": "stream",
     "text": [
      "Mean squared error: 2005552.86\n"
     ]
    }
   ],
   "source": [
    "# The mean squared error\n",
    "print(\"Mean squared error: %.2f\" % mean_squared_error(y_test, y_pred))"
   ]
  },
  {
   "cell_type": "code",
   "execution_count": null,
   "metadata": {},
   "outputs": [],
   "source": []
  }
 ],
 "metadata": {
  "instance_type": "ml.t3.medium",
  "kernelspec": {
   "display_name": "Python 3 (Data Science)",
   "language": "python",
   "name": "python3__SAGEMAKER_INTERNAL__arn:aws:sagemaker:us-west-2:236514542706:image/datascience-1.0"
  },
  "language_info": {
   "codemirror_mode": {
    "name": "ipython",
    "version": 3
   },
   "file_extension": ".py",
   "mimetype": "text/x-python",
   "name": "python",
   "nbconvert_exporter": "python",
   "pygments_lexer": "ipython3",
   "version": "3.7.10"
  }
 },
 "nbformat": 4,
 "nbformat_minor": 4
}
